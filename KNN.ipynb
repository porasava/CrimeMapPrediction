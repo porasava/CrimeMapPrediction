{
 "cells": [
  {
   "cell_type": "code",
   "execution_count": 1,
   "id": "e407848b",
   "metadata": {},
   "outputs": [],
   "source": [
    "#nueral network\n",
    "import numpy as np\n",
    "import pandas as pd\n",
    "import os\n",
    "import random\n",
    "import time\n",
    "\n",
    "# ML imports\n",
    "from sklearn.model_selection import KFold, train_test_split, cross_val_score, cross_val_predict, GridSearchCV \n",
    "from sklearn.metrics import confusion_matrix, precision_score, recall_score, f1_score, classification_report\n",
    "from sklearn.ensemble import RandomForestClassifier\n",
    "from sklearn.decomposition import PCA, IncrementalPCA\n",
    "\n",
    "# Visualizations\n",
    "import matplotlib.pyplot as plt  # static plotting\n",
    "import seaborn as sns  # pretty plotting, including heat map\n",
    "%matplotlib inline\n",
    "from sklearn.preprocessing import RobustScaler"
   ]
  },
  {
   "cell_type": "code",
   "execution_count": 2,
   "id": "f41f3ddf",
   "metadata": {},
   "outputs": [
    {
     "data": {
      "text/plain": [
       "Index(['num_row', 'Month', 'Month_La', 'Year', 'Area_unitID', 'Area_Unit_TA',\n",
       "       'Day Of Week ID', 'Day_Of_Week', 'HRGroup', 'Time', 'TA_ID',\n",
       "       'Locn_Type_DivisionID', 'Locn_Type_Division', 'Types of Crime ID',\n",
       "       'Types_of_Crime', 'Crime_cases'],\n",
       "      dtype='object')"
      ]
     },
     "execution_count": 2,
     "metadata": {},
     "output_type": "execute_result"
    }
   ],
   "source": [
    "# df_train4=pd.read_csv(r\"data\\NewTable08_Map_Crime_MY1020110801imblearn-year1-5.csv\")\n",
    "df_train4=pd.read_csv(r\"data\\NewTable08_Map_Crime_MY1020110801imblearn-6.csv\")\n",
    "df_train4_drop=df_train4.dropna()\n",
    "df_train4.columns"
   ]
  },
  {
   "cell_type": "code",
   "execution_count": 3,
   "id": "49614f5b",
   "metadata": {},
   "outputs": [],
   "source": [
    "df_train4_loaded=df_train4.drop(['num_row','Month','Year','Area_unitID','Day Of Week ID','HRGroup','TA_ID','Locn_Type_DivisionID','Types of Crime ID'],axis=1)\n",
    "df_train4_loaded_drop=df_train4_loaded.dropna()"
   ]
  },
  {
   "cell_type": "code",
   "execution_count": 4,
   "id": "0d91c6f9",
   "metadata": {},
   "outputs": [],
   "source": [
    "def generate_dict(data):\n",
    "    my_dict= {v:k for k, v in enumerate(set(data))}\n",
    "    return my_dict"
   ]
  },
  {
   "cell_type": "code",
   "execution_count": 5,
   "id": "18197905",
   "metadata": {},
   "outputs": [],
   "source": [
    "d_Month_La=generate_dict(df_train4_loaded[\"Month_La\"].unique())\n",
    "d_Area_Unit=generate_dict(df_train4_loaded[\"Area_Unit_TA\"].unique())\n",
    "d_Day_Of_Week=generate_dict(df_train4_loaded[\"Day_Of_Week\"].unique())\n",
    "d_Time=generate_dict(df_train4_loaded[\"Time\"].unique())\n",
    "d_Locn_Type_Division=generate_dict(df_train4_loaded[\"Locn_Type_Division\"].unique())\n",
    "d_Types_of_Crime=generate_dict(df_train4_loaded_drop[\"Types_of_Crime\"].unique())"
   ]
  },
  {
   "cell_type": "code",
   "execution_count": 6,
   "id": "910dbcbd",
   "metadata": {},
   "outputs": [
    {
     "data": {
      "text/html": [
       "<div>\n",
       "<style scoped>\n",
       "    .dataframe tbody tr th:only-of-type {\n",
       "        vertical-align: middle;\n",
       "    }\n",
       "\n",
       "    .dataframe tbody tr th {\n",
       "        vertical-align: top;\n",
       "    }\n",
       "\n",
       "    .dataframe thead th {\n",
       "        text-align: right;\n",
       "    }\n",
       "</style>\n",
       "<table border=\"1\" class=\"dataframe\">\n",
       "  <thead>\n",
       "    <tr style=\"text-align: right;\">\n",
       "      <th></th>\n",
       "      <th>Month_La</th>\n",
       "      <th>Area_Unit_TA</th>\n",
       "      <th>Day_Of_Week</th>\n",
       "      <th>Time</th>\n",
       "      <th>Locn_Type_Division</th>\n",
       "      <th>Types_of_Crime</th>\n",
       "      <th>Crime_cases</th>\n",
       "    </tr>\n",
       "  </thead>\n",
       "  <tbody>\n",
       "    <tr>\n",
       "      <th>0</th>\n",
       "      <td>November</td>\n",
       "      <td>Mt Eden South, Auckland</td>\n",
       "      <td>UNKNOWN</td>\n",
       "      <td>00:00-23:59</td>\n",
       "      <td>Community Location</td>\n",
       "      <td>Theft and Related Offences</td>\n",
       "      <td>6</td>\n",
       "    </tr>\n",
       "    <tr>\n",
       "      <th>1</th>\n",
       "      <td>February</td>\n",
       "      <td>Mt Eden South, Auckland</td>\n",
       "      <td>UNKNOWN</td>\n",
       "      <td>00:00-23:59</td>\n",
       "      <td>Community Location</td>\n",
       "      <td>Theft and Related Offences</td>\n",
       "      <td>6</td>\n",
       "    </tr>\n",
       "    <tr>\n",
       "      <th>2</th>\n",
       "      <td>November</td>\n",
       "      <td>Mt Eden South, Auckland</td>\n",
       "      <td>UNKNOWN</td>\n",
       "      <td>00:00-23:59</td>\n",
       "      <td>Community Location</td>\n",
       "      <td>Theft and Related Offences</td>\n",
       "      <td>6</td>\n",
       "    </tr>\n",
       "    <tr>\n",
       "      <th>3</th>\n",
       "      <td>January</td>\n",
       "      <td>Mt Eden South, Auckland</td>\n",
       "      <td>UNKNOWN</td>\n",
       "      <td>00:00-23:59</td>\n",
       "      <td>Community Location</td>\n",
       "      <td>Theft and Related Offences</td>\n",
       "      <td>6</td>\n",
       "    </tr>\n",
       "    <tr>\n",
       "      <th>4</th>\n",
       "      <td>February</td>\n",
       "      <td>Mt Eden South, Auckland</td>\n",
       "      <td>UNKNOWN</td>\n",
       "      <td>00:00-23:59</td>\n",
       "      <td>Community Location</td>\n",
       "      <td>Theft and Related Offences</td>\n",
       "      <td>6</td>\n",
       "    </tr>\n",
       "    <tr>\n",
       "      <th>...</th>\n",
       "      <td>...</td>\n",
       "      <td>...</td>\n",
       "      <td>...</td>\n",
       "      <td>...</td>\n",
       "      <td>...</td>\n",
       "      <td>...</td>\n",
       "      <td>...</td>\n",
       "    </tr>\n",
       "    <tr>\n",
       "      <th>5453226</th>\n",
       "      <td>June</td>\n",
       "      <td>Pinehill, Auckland</td>\n",
       "      <td>UNKNOWN</td>\n",
       "      <td>00:00-23:59</td>\n",
       "      <td>Other Location</td>\n",
       "      <td>Unlawful Entry With Intent/Burglary, Break and...</td>\n",
       "      <td>9</td>\n",
       "    </tr>\n",
       "    <tr>\n",
       "      <th>5453227</th>\n",
       "      <td>June</td>\n",
       "      <td>Pinehill, Auckland</td>\n",
       "      <td>UNKNOWN</td>\n",
       "      <td>00:00-23:59</td>\n",
       "      <td>Other Location</td>\n",
       "      <td>Unlawful Entry With Intent/Burglary, Break and...</td>\n",
       "      <td>9</td>\n",
       "    </tr>\n",
       "    <tr>\n",
       "      <th>5453228</th>\n",
       "      <td>March</td>\n",
       "      <td>Pinehill, Auckland</td>\n",
       "      <td>UNKNOWN</td>\n",
       "      <td>00:00-23:59</td>\n",
       "      <td>Not Applicable</td>\n",
       "      <td>Unlawful Entry With Intent/Burglary, Break and...</td>\n",
       "      <td>9</td>\n",
       "    </tr>\n",
       "    <tr>\n",
       "      <th>5453229</th>\n",
       "      <td>June</td>\n",
       "      <td>Pinehill, Auckland</td>\n",
       "      <td>UNKNOWN</td>\n",
       "      <td>00:00-23:59</td>\n",
       "      <td>Other Location</td>\n",
       "      <td>Unlawful Entry With Intent/Burglary, Break and...</td>\n",
       "      <td>9</td>\n",
       "    </tr>\n",
       "    <tr>\n",
       "      <th>5453230</th>\n",
       "      <td>June</td>\n",
       "      <td>Pinehill, Auckland</td>\n",
       "      <td>UNKNOWN</td>\n",
       "      <td>00:00-23:59</td>\n",
       "      <td>Other Location</td>\n",
       "      <td>Unlawful Entry With Intent/Burglary, Break and...</td>\n",
       "      <td>9</td>\n",
       "    </tr>\n",
       "  </tbody>\n",
       "</table>\n",
       "<p>5437710 rows × 7 columns</p>\n",
       "</div>"
      ],
      "text/plain": [
       "         Month_La             Area_Unit_TA Day_Of_Week         Time  \\\n",
       "0        November  Mt Eden South, Auckland     UNKNOWN  00:00-23:59   \n",
       "1        February  Mt Eden South, Auckland     UNKNOWN  00:00-23:59   \n",
       "2        November  Mt Eden South, Auckland     UNKNOWN  00:00-23:59   \n",
       "3         January  Mt Eden South, Auckland     UNKNOWN  00:00-23:59   \n",
       "4        February  Mt Eden South, Auckland     UNKNOWN  00:00-23:59   \n",
       "...           ...                      ...         ...          ...   \n",
       "5453226      June       Pinehill, Auckland     UNKNOWN  00:00-23:59   \n",
       "5453227      June       Pinehill, Auckland     UNKNOWN  00:00-23:59   \n",
       "5453228     March       Pinehill, Auckland     UNKNOWN  00:00-23:59   \n",
       "5453229      June       Pinehill, Auckland     UNKNOWN  00:00-23:59   \n",
       "5453230      June       Pinehill, Auckland     UNKNOWN  00:00-23:59   \n",
       "\n",
       "         Locn_Type_Division  \\\n",
       "0        Community Location   \n",
       "1        Community Location   \n",
       "2        Community Location   \n",
       "3        Community Location   \n",
       "4        Community Location   \n",
       "...                     ...   \n",
       "5453226      Other Location   \n",
       "5453227      Other Location   \n",
       "5453228      Not Applicable   \n",
       "5453229      Other Location   \n",
       "5453230      Other Location   \n",
       "\n",
       "                                            Types_of_Crime  Crime_cases  \n",
       "0                               Theft and Related Offences            6  \n",
       "1                               Theft and Related Offences            6  \n",
       "2                               Theft and Related Offences            6  \n",
       "3                               Theft and Related Offences            6  \n",
       "4                               Theft and Related Offences            6  \n",
       "...                                                    ...          ...  \n",
       "5453226  Unlawful Entry With Intent/Burglary, Break and...            9  \n",
       "5453227  Unlawful Entry With Intent/Burglary, Break and...            9  \n",
       "5453228  Unlawful Entry With Intent/Burglary, Break and...            9  \n",
       "5453229  Unlawful Entry With Intent/Burglary, Break and...            9  \n",
       "5453230  Unlawful Entry With Intent/Burglary, Break and...            9  \n",
       "\n",
       "[5437710 rows x 7 columns]"
      ]
     },
     "execution_count": 6,
     "metadata": {},
     "output_type": "execute_result"
    }
   ],
   "source": [
    "df2=df_train4_loaded_drop\n",
    "df2"
   ]
  },
  {
   "cell_type": "code",
   "execution_count": 7,
   "id": "dcc402c5",
   "metadata": {},
   "outputs": [
    {
     "name": "stderr",
     "output_type": "stream",
     "text": [
      "C:\\Users\\admin\\AppData\\Local\\Temp\\ipykernel_17888\\3222048269.py:1: SettingWithCopyWarning: \n",
      "A value is trying to be set on a copy of a slice from a DataFrame.\n",
      "Try using .loc[row_indexer,col_indexer] = value instead\n",
      "\n",
      "See the caveats in the documentation: https://pandas.pydata.org/pandas-docs/stable/user_guide/indexing.html#returning-a-view-versus-a-copy\n",
      "  df2[\"Area_Unit_TA\"]=df2[\"Area_Unit_TA\"].map(d_Area_Unit)\n",
      "C:\\Users\\admin\\AppData\\Local\\Temp\\ipykernel_17888\\3222048269.py:2: SettingWithCopyWarning: \n",
      "A value is trying to be set on a copy of a slice from a DataFrame.\n",
      "Try using .loc[row_indexer,col_indexer] = value instead\n",
      "\n",
      "See the caveats in the documentation: https://pandas.pydata.org/pandas-docs/stable/user_guide/indexing.html#returning-a-view-versus-a-copy\n",
      "  df2[\"Month_La\"]=df2[\"Month_La\"].map(d_Month_La)\n",
      "C:\\Users\\admin\\AppData\\Local\\Temp\\ipykernel_17888\\3222048269.py:3: SettingWithCopyWarning: \n",
      "A value is trying to be set on a copy of a slice from a DataFrame.\n",
      "Try using .loc[row_indexer,col_indexer] = value instead\n",
      "\n",
      "See the caveats in the documentation: https://pandas.pydata.org/pandas-docs/stable/user_guide/indexing.html#returning-a-view-versus-a-copy\n",
      "  df2[\"Day_Of_Week\"]=df2[\"Day_Of_Week\"].map(d_Day_Of_Week)\n",
      "C:\\Users\\admin\\AppData\\Local\\Temp\\ipykernel_17888\\3222048269.py:4: SettingWithCopyWarning: \n",
      "A value is trying to be set on a copy of a slice from a DataFrame.\n",
      "Try using .loc[row_indexer,col_indexer] = value instead\n",
      "\n",
      "See the caveats in the documentation: https://pandas.pydata.org/pandas-docs/stable/user_guide/indexing.html#returning-a-view-versus-a-copy\n",
      "  df2[\"Time\"]=df2[\"Time\"].map(d_Time)\n",
      "C:\\Users\\admin\\AppData\\Local\\Temp\\ipykernel_17888\\3222048269.py:5: SettingWithCopyWarning: \n",
      "A value is trying to be set on a copy of a slice from a DataFrame.\n",
      "Try using .loc[row_indexer,col_indexer] = value instead\n",
      "\n",
      "See the caveats in the documentation: https://pandas.pydata.org/pandas-docs/stable/user_guide/indexing.html#returning-a-view-versus-a-copy\n",
      "  df2[\"Locn_Type_Division\"]=df2[\"Locn_Type_Division\"].map(d_Locn_Type_Division)\n",
      "C:\\Users\\admin\\AppData\\Local\\Temp\\ipykernel_17888\\3222048269.py:6: SettingWithCopyWarning: \n",
      "A value is trying to be set on a copy of a slice from a DataFrame.\n",
      "Try using .loc[row_indexer,col_indexer] = value instead\n",
      "\n",
      "See the caveats in the documentation: https://pandas.pydata.org/pandas-docs/stable/user_guide/indexing.html#returning-a-view-versus-a-copy\n",
      "  df2[\"Types_of_Crime\"]=df2[\"Types_of_Crime\"].map(d_Types_of_Crime)\n"
     ]
    }
   ],
   "source": [
    "df2[\"Area_Unit_TA\"]=df2[\"Area_Unit_TA\"].map(d_Area_Unit)\n",
    "df2[\"Month_La\"]=df2[\"Month_La\"].map(d_Month_La)\n",
    "df2[\"Day_Of_Week\"]=df2[\"Day_Of_Week\"].map(d_Day_Of_Week)\n",
    "df2[\"Time\"]=df2[\"Time\"].map(d_Time)\n",
    "df2[\"Locn_Type_Division\"]=df2[\"Locn_Type_Division\"].map(d_Locn_Type_Division)\n",
    "df2[\"Types_of_Crime\"]=df2[\"Types_of_Crime\"].map(d_Types_of_Crime)"
   ]
  },
  {
   "cell_type": "code",
   "execution_count": 8,
   "id": "8a76b7e1",
   "metadata": {},
   "outputs": [
    {
     "name": "stderr",
     "output_type": "stream",
     "text": [
      "C:\\Users\\admin\\AppData\\Local\\Temp\\ipykernel_17888\\2869146917.py:1: SettingWithCopyWarning: \n",
      "A value is trying to be set on a copy of a slice from a DataFrame.\n",
      "Try using .loc[row_indexer,col_indexer] = value instead\n",
      "\n",
      "See the caveats in the documentation: https://pandas.pydata.org/pandas-docs/stable/user_guide/indexing.html#returning-a-view-versus-a-copy\n",
      "  df2[\"Month_La\"] = df2['Month_La'].astype('int32')\n",
      "C:\\Users\\admin\\AppData\\Local\\Temp\\ipykernel_17888\\2869146917.py:2: SettingWithCopyWarning: \n",
      "A value is trying to be set on a copy of a slice from a DataFrame.\n",
      "Try using .loc[row_indexer,col_indexer] = value instead\n",
      "\n",
      "See the caveats in the documentation: https://pandas.pydata.org/pandas-docs/stable/user_guide/indexing.html#returning-a-view-versus-a-copy\n",
      "  df2[\"Area_Unit_TA\"] = df2['Area_Unit_TA'].astype('int32')\n",
      "C:\\Users\\admin\\AppData\\Local\\Temp\\ipykernel_17888\\2869146917.py:3: SettingWithCopyWarning: \n",
      "A value is trying to be set on a copy of a slice from a DataFrame.\n",
      "Try using .loc[row_indexer,col_indexer] = value instead\n",
      "\n",
      "See the caveats in the documentation: https://pandas.pydata.org/pandas-docs/stable/user_guide/indexing.html#returning-a-view-versus-a-copy\n",
      "  df2[\"Day_Of_Week\"] = df2['Day_Of_Week'].astype('int32')\n",
      "C:\\Users\\admin\\AppData\\Local\\Temp\\ipykernel_17888\\2869146917.py:4: SettingWithCopyWarning: \n",
      "A value is trying to be set on a copy of a slice from a DataFrame.\n",
      "Try using .loc[row_indexer,col_indexer] = value instead\n",
      "\n",
      "See the caveats in the documentation: https://pandas.pydata.org/pandas-docs/stable/user_guide/indexing.html#returning-a-view-versus-a-copy\n",
      "  df2[\"Time\"] = df2['Time'].astype('int32')\n",
      "C:\\Users\\admin\\AppData\\Local\\Temp\\ipykernel_17888\\2869146917.py:5: SettingWithCopyWarning: \n",
      "A value is trying to be set on a copy of a slice from a DataFrame.\n",
      "Try using .loc[row_indexer,col_indexer] = value instead\n",
      "\n",
      "See the caveats in the documentation: https://pandas.pydata.org/pandas-docs/stable/user_guide/indexing.html#returning-a-view-versus-a-copy\n",
      "  df2[\"Locn_Type_Division\"] = df2['Locn_Type_Division'].astype('int32')\n",
      "C:\\Users\\admin\\AppData\\Local\\Temp\\ipykernel_17888\\2869146917.py:6: SettingWithCopyWarning: \n",
      "A value is trying to be set on a copy of a slice from a DataFrame.\n",
      "Try using .loc[row_indexer,col_indexer] = value instead\n",
      "\n",
      "See the caveats in the documentation: https://pandas.pydata.org/pandas-docs/stable/user_guide/indexing.html#returning-a-view-versus-a-copy\n",
      "  df2[\"Types_of_Crime\"] = df2['Types_of_Crime'].astype('int32')\n",
      "C:\\Users\\admin\\AppData\\Local\\Temp\\ipykernel_17888\\2869146917.py:7: SettingWithCopyWarning: \n",
      "A value is trying to be set on a copy of a slice from a DataFrame.\n",
      "Try using .loc[row_indexer,col_indexer] = value instead\n",
      "\n",
      "See the caveats in the documentation: https://pandas.pydata.org/pandas-docs/stable/user_guide/indexing.html#returning-a-view-versus-a-copy\n",
      "  df2[\"Crime_cases\"] = df2['Crime_cases'].astype('int32')\n"
     ]
    },
    {
     "data": {
      "text/plain": [
       "Month_La              int32\n",
       "Area_Unit_TA          int32\n",
       "Day_Of_Week           int32\n",
       "Time                  int32\n",
       "Locn_Type_Division    int32\n",
       "Types_of_Crime        int32\n",
       "Crime_cases           int32\n",
       "dtype: object"
      ]
     },
     "execution_count": 8,
     "metadata": {},
     "output_type": "execute_result"
    }
   ],
   "source": [
    "df2[\"Month_La\"] = df2['Month_La'].astype('int32')\n",
    "df2[\"Area_Unit_TA\"] = df2['Area_Unit_TA'].astype('int32')\n",
    "df2[\"Day_Of_Week\"] = df2['Day_Of_Week'].astype('int32')\n",
    "df2[\"Time\"] = df2['Time'].astype('int32')\n",
    "df2[\"Locn_Type_Division\"] = df2['Locn_Type_Division'].astype('int32')\n",
    "df2[\"Types_of_Crime\"] = df2['Types_of_Crime'].astype('int32')\n",
    "df2[\"Crime_cases\"] = df2['Crime_cases'].astype('int32')\n",
    "df2.dtypes"
   ]
  },
  {
   "cell_type": "code",
   "execution_count": 9,
   "id": "5474516c",
   "metadata": {},
   "outputs": [],
   "source": [
    "df2.dtypes\n",
    "df2_drop=df2.dropna()"
   ]
  },
  {
   "cell_type": "code",
   "execution_count": 10,
   "id": "b6d81b13",
   "metadata": {},
   "outputs": [
    {
     "data": {
      "text/plain": [
       "Month_La              int32\n",
       "Area_Unit_TA          int32\n",
       "Day_Of_Week           int32\n",
       "Time                  int32\n",
       "Locn_Type_Division    int32\n",
       "Types_of_Crime        int32\n",
       "Crime_cases           int32\n",
       "dtype: object"
      ]
     },
     "execution_count": 10,
     "metadata": {},
     "output_type": "execute_result"
    }
   ],
   "source": [
    "df2_drop[\"Month_La\"] = df2_drop['Month_La'].astype('int32')\n",
    "df2_drop[\"Area_Unit_TA\"] = df2_drop['Area_Unit_TA'].astype('int32')\n",
    "df2_drop[\"Day_Of_Week\"] = df2_drop['Day_Of_Week'].astype('int32')\n",
    "df2_drop[\"Time\"] = df2_drop['Time'].astype('int32')\n",
    "df2_drop[\"Locn_Type_Division\"] = df2_drop['Locn_Type_Division'].astype('int32')\n",
    "df2_drop[\"Types_of_Crime\"] = df2_drop['Types_of_Crime'].astype('int32')\n",
    "df2_drop[\"Crime_cases\"] = df2_drop['Crime_cases'].astype('int32')\n",
    "df2_drop.dtypes"
   ]
  },
  {
   "cell_type": "code",
   "execution_count": 11,
   "id": "eb47233c",
   "metadata": {},
   "outputs": [
    {
     "data": {
      "text/html": [
       "<div>\n",
       "<style scoped>\n",
       "    .dataframe tbody tr th:only-of-type {\n",
       "        vertical-align: middle;\n",
       "    }\n",
       "\n",
       "    .dataframe tbody tr th {\n",
       "        vertical-align: top;\n",
       "    }\n",
       "\n",
       "    .dataframe thead th {\n",
       "        text-align: right;\n",
       "    }\n",
       "</style>\n",
       "<table border=\"1\" class=\"dataframe\">\n",
       "  <thead>\n",
       "    <tr style=\"text-align: right;\">\n",
       "      <th></th>\n",
       "      <th>Month_La</th>\n",
       "      <th>Area_Unit_TA</th>\n",
       "      <th>Day_Of_Week</th>\n",
       "      <th>Time</th>\n",
       "      <th>Locn_Type_Division</th>\n",
       "      <th>Types_of_Crime</th>\n",
       "      <th>Crime_cases</th>\n",
       "    </tr>\n",
       "  </thead>\n",
       "  <tbody>\n",
       "    <tr>\n",
       "      <th>0</th>\n",
       "      <td>5</td>\n",
       "      <td>773</td>\n",
       "      <td>6</td>\n",
       "      <td>4</td>\n",
       "      <td>1</td>\n",
       "      <td>0</td>\n",
       "      <td>6</td>\n",
       "    </tr>\n",
       "    <tr>\n",
       "      <th>1</th>\n",
       "      <td>0</td>\n",
       "      <td>773</td>\n",
       "      <td>6</td>\n",
       "      <td>4</td>\n",
       "      <td>1</td>\n",
       "      <td>0</td>\n",
       "      <td>6</td>\n",
       "    </tr>\n",
       "    <tr>\n",
       "      <th>2</th>\n",
       "      <td>5</td>\n",
       "      <td>773</td>\n",
       "      <td>6</td>\n",
       "      <td>4</td>\n",
       "      <td>1</td>\n",
       "      <td>0</td>\n",
       "      <td>6</td>\n",
       "    </tr>\n",
       "    <tr>\n",
       "      <th>3</th>\n",
       "      <td>11</td>\n",
       "      <td>773</td>\n",
       "      <td>6</td>\n",
       "      <td>4</td>\n",
       "      <td>1</td>\n",
       "      <td>0</td>\n",
       "      <td>6</td>\n",
       "    </tr>\n",
       "    <tr>\n",
       "      <th>4</th>\n",
       "      <td>0</td>\n",
       "      <td>773</td>\n",
       "      <td>6</td>\n",
       "      <td>4</td>\n",
       "      <td>1</td>\n",
       "      <td>0</td>\n",
       "      <td>6</td>\n",
       "    </tr>\n",
       "  </tbody>\n",
       "</table>\n",
       "</div>"
      ],
      "text/plain": [
       "   Month_La  Area_Unit_TA  Day_Of_Week  Time  Locn_Type_Division  \\\n",
       "0         5           773            6     4                   1   \n",
       "1         0           773            6     4                   1   \n",
       "2         5           773            6     4                   1   \n",
       "3        11           773            6     4                   1   \n",
       "4         0           773            6     4                   1   \n",
       "\n",
       "   Types_of_Crime  Crime_cases  \n",
       "0               0            6  \n",
       "1               0            6  \n",
       "2               0            6  \n",
       "3               0            6  \n",
       "4               0            6  "
      ]
     },
     "execution_count": 11,
     "metadata": {},
     "output_type": "execute_result"
    }
   ],
   "source": [
    "df2_drop.head()"
   ]
  },
  {
   "cell_type": "code",
   "execution_count": 12,
   "id": "85d8d7aa",
   "metadata": {},
   "outputs": [
    {
     "data": {
      "text/plain": [
       "{'February': 0,\n",
       " 'August': 1,\n",
       " 'May': 2,\n",
       " 'October': 3,\n",
       " 'April': 4,\n",
       " 'November': 5,\n",
       " 'September': 6,\n",
       " 'December': 7,\n",
       " 'July': 8,\n",
       " 'March': 9,\n",
       " 'June': 10,\n",
       " 'January': 11}"
      ]
     },
     "execution_count": 12,
     "metadata": {},
     "output_type": "execute_result"
    }
   ],
   "source": [
    "d_Month_La"
   ]
  },
  {
   "cell_type": "code",
   "execution_count": 13,
   "id": "035beb24",
   "metadata": {},
   "outputs": [],
   "source": [
    "df2_15 = df2_drop[df2_drop['Month_La'] != 6]\n",
    "df2_test = df2_drop[df2_drop['Month_La'] == 6]"
   ]
  },
  {
   "cell_type": "code",
   "execution_count": 14,
   "id": "2b5b8190",
   "metadata": {},
   "outputs": [
    {
     "data": {
      "text/html": [
       "<div>\n",
       "<style scoped>\n",
       "    .dataframe tbody tr th:only-of-type {\n",
       "        vertical-align: middle;\n",
       "    }\n",
       "\n",
       "    .dataframe tbody tr th {\n",
       "        vertical-align: top;\n",
       "    }\n",
       "\n",
       "    .dataframe thead th {\n",
       "        text-align: right;\n",
       "    }\n",
       "</style>\n",
       "<table border=\"1\" class=\"dataframe\">\n",
       "  <thead>\n",
       "    <tr style=\"text-align: right;\">\n",
       "      <th></th>\n",
       "      <th>Month_La</th>\n",
       "      <th>Area_Unit_TA</th>\n",
       "      <th>Day_Of_Week</th>\n",
       "      <th>Time</th>\n",
       "      <th>Locn_Type_Division</th>\n",
       "      <th>Types_of_Crime</th>\n",
       "      <th>Crime_cases</th>\n",
       "    </tr>\n",
       "  </thead>\n",
       "  <tbody>\n",
       "    <tr>\n",
       "      <th>109</th>\n",
       "      <td>6</td>\n",
       "      <td>773</td>\n",
       "      <td>6</td>\n",
       "      <td>4</td>\n",
       "      <td>1</td>\n",
       "      <td>0</td>\n",
       "      <td>4</td>\n",
       "    </tr>\n",
       "    <tr>\n",
       "      <th>116</th>\n",
       "      <td>6</td>\n",
       "      <td>773</td>\n",
       "      <td>6</td>\n",
       "      <td>4</td>\n",
       "      <td>0</td>\n",
       "      <td>2</td>\n",
       "      <td>5</td>\n",
       "    </tr>\n",
       "    <tr>\n",
       "      <th>119</th>\n",
       "      <td>6</td>\n",
       "      <td>773</td>\n",
       "      <td>6</td>\n",
       "      <td>4</td>\n",
       "      <td>1</td>\n",
       "      <td>0</td>\n",
       "      <td>4</td>\n",
       "    </tr>\n",
       "    <tr>\n",
       "      <th>130</th>\n",
       "      <td>6</td>\n",
       "      <td>773</td>\n",
       "      <td>6</td>\n",
       "      <td>4</td>\n",
       "      <td>1</td>\n",
       "      <td>0</td>\n",
       "      <td>4</td>\n",
       "    </tr>\n",
       "    <tr>\n",
       "      <th>134</th>\n",
       "      <td>6</td>\n",
       "      <td>773</td>\n",
       "      <td>6</td>\n",
       "      <td>4</td>\n",
       "      <td>0</td>\n",
       "      <td>2</td>\n",
       "      <td>5</td>\n",
       "    </tr>\n",
       "    <tr>\n",
       "      <th>...</th>\n",
       "      <td>...</td>\n",
       "      <td>...</td>\n",
       "      <td>...</td>\n",
       "      <td>...</td>\n",
       "      <td>...</td>\n",
       "      <td>...</td>\n",
       "      <td>...</td>\n",
       "    </tr>\n",
       "    <tr>\n",
       "      <th>5452734</th>\n",
       "      <td>6</td>\n",
       "      <td>1385</td>\n",
       "      <td>6</td>\n",
       "      <td>4</td>\n",
       "      <td>0</td>\n",
       "      <td>2</td>\n",
       "      <td>2</td>\n",
       "    </tr>\n",
       "    <tr>\n",
       "      <th>5452985</th>\n",
       "      <td>6</td>\n",
       "      <td>1385</td>\n",
       "      <td>1</td>\n",
       "      <td>4</td>\n",
       "      <td>0</td>\n",
       "      <td>2</td>\n",
       "      <td>1</td>\n",
       "    </tr>\n",
       "    <tr>\n",
       "      <th>5452995</th>\n",
       "      <td>6</td>\n",
       "      <td>1385</td>\n",
       "      <td>6</td>\n",
       "      <td>4</td>\n",
       "      <td>1</td>\n",
       "      <td>0</td>\n",
       "      <td>1</td>\n",
       "    </tr>\n",
       "    <tr>\n",
       "      <th>5453044</th>\n",
       "      <td>6</td>\n",
       "      <td>1385</td>\n",
       "      <td>5</td>\n",
       "      <td>4</td>\n",
       "      <td>3</td>\n",
       "      <td>0</td>\n",
       "      <td>1</td>\n",
       "    </tr>\n",
       "    <tr>\n",
       "      <th>5453087</th>\n",
       "      <td>6</td>\n",
       "      <td>1385</td>\n",
       "      <td>6</td>\n",
       "      <td>4</td>\n",
       "      <td>0</td>\n",
       "      <td>2</td>\n",
       "      <td>2</td>\n",
       "    </tr>\n",
       "  </tbody>\n",
       "</table>\n",
       "<p>459541 rows × 7 columns</p>\n",
       "</div>"
      ],
      "text/plain": [
       "         Month_La  Area_Unit_TA  Day_Of_Week  Time  Locn_Type_Division  \\\n",
       "109             6           773            6     4                   1   \n",
       "116             6           773            6     4                   0   \n",
       "119             6           773            6     4                   1   \n",
       "130             6           773            6     4                   1   \n",
       "134             6           773            6     4                   0   \n",
       "...           ...           ...          ...   ...                 ...   \n",
       "5452734         6          1385            6     4                   0   \n",
       "5452985         6          1385            1     4                   0   \n",
       "5452995         6          1385            6     4                   1   \n",
       "5453044         6          1385            5     4                   3   \n",
       "5453087         6          1385            6     4                   0   \n",
       "\n",
       "         Types_of_Crime  Crime_cases  \n",
       "109                   0            4  \n",
       "116                   2            5  \n",
       "119                   0            4  \n",
       "130                   0            4  \n",
       "134                   2            5  \n",
       "...                 ...          ...  \n",
       "5452734               2            2  \n",
       "5452985               2            1  \n",
       "5452995               0            1  \n",
       "5453044               0            1  \n",
       "5453087               2            2  \n",
       "\n",
       "[459541 rows x 7 columns]"
      ]
     },
     "execution_count": 14,
     "metadata": {},
     "output_type": "execute_result"
    }
   ],
   "source": [
    "df2_test"
   ]
  },
  {
   "cell_type": "code",
   "execution_count": 15,
   "id": "fb442fdf",
   "metadata": {},
   "outputs": [],
   "source": [
    "target_name =  'Crime_cases'\n",
    "robust_scaler = RobustScaler()\n",
    "X=df2.drop(['Crime_cases'],axis=1)\n",
    "y=df2[target_name]\n",
    "# X_new=df2_test.drop(['Crime_cases'],axis=1)\n",
    "# y_new=df2_test[target_name]\n",
    "X_train,X_test, y_train,y_test = train_test_split(X,y,test_size=0.2, random_state=42)"
   ]
  },
  {
   "cell_type": "code",
   "execution_count": 16,
   "id": "9b9f8bfb",
   "metadata": {},
   "outputs": [],
   "source": [
    "from sklearn.neighbors import KNeighborsClassifier\n",
    "knn=KNeighborsClassifier(n_neighbors=10, weights='distance',metric='euclidean',n_jobs=-1)\n",
    "KNN=knn.fit(X_train,y_train)"
   ]
  },
  {
   "cell_type": "code",
   "execution_count": 17,
   "id": "8ef6a9c4",
   "metadata": {},
   "outputs": [
    {
     "name": "stdout",
     "output_type": "stream",
     "text": [
      "Accuracy:  0.790334534206495\n"
     ]
    },
    {
     "data": {
      "text/plain": [
       "(None,)"
      ]
     },
     "execution_count": 17,
     "metadata": {},
     "output_type": "execute_result"
    }
   ],
   "source": [
    "knn.fit(X_train, y_train.values.ravel()),\n",
    "print('Accuracy: ', knn.score(X_test, y_test)),"
   ]
  },
  {
   "cell_type": "code",
   "execution_count": 18,
   "id": "f6dec143",
   "metadata": {},
   "outputs": [
    {
     "data": {
      "text/plain": [
       "array([[2, 1, 1, 2, 1, 1]])"
      ]
     },
     "execution_count": 18,
     "metadata": {},
     "output_type": "execute_result"
    }
   ],
   "source": [
    "#User input\n",
    "X=np.array([[2,1,1,2,1,1]])\n",
    "X"
   ]
  },
  {
   "cell_type": "code",
   "execution_count": 19,
   "id": "ccc77d39",
   "metadata": {},
   "outputs": [
    {
     "name": "stdout",
     "output_type": "stream",
     "text": [
      "F1 accuracy:  0.7899996189154468\n",
      "              precision    recall  f1-score   support\n",
      "\n",
      "           1       0.95      0.73      0.83    109571\n",
      "           2       0.77      0.76      0.76    108474\n",
      "           3       0.75      0.73      0.74    108388\n",
      "           4       0.74      0.73      0.74    108311\n",
      "           5       0.76      0.76      0.76    109262\n",
      "           6       0.76      0.77      0.77    108362\n",
      "           7       0.78      0.83      0.80    108273\n",
      "           8       0.82      0.83      0.82    108730\n",
      "           9       0.81      0.92      0.86    108788\n",
      "          10       0.81      0.84      0.82    109383\n",
      "\n",
      "    accuracy                           0.79   1087542\n",
      "   macro avg       0.79      0.79      0.79   1087542\n",
      "weighted avg       0.79      0.79      0.79   1087542\n",
      "\n"
     ]
    }
   ],
   "source": [
    "pred = knn.predict(X_test)\n",
    "print('F1 accuracy: ', f1_score(pred, y_test, average='macro'))\n",
    "    # rfc_pred = rfc.predict(X_test)\n",
    "print (classification_report(y_test,pred))"
   ]
  },
  {
   "cell_type": "code",
   "execution_count": 20,
   "id": "944ea718",
   "metadata": {},
   "outputs": [],
   "source": [
    "import pickle"
   ]
  },
  {
   "cell_type": "code",
   "execution_count": 21,
   "id": "24af8e77",
   "metadata": {},
   "outputs": [],
   "source": [
    "data= {\"model\":knn, \n",
    "       \"d_Area_Unit\":d_Area_Unit, \n",
    "       \"d_Month_La\":d_Month_La,\"d_Day_Of_Week\":d_Day_Of_Week,\n",
    "       \"d_Time\":d_Time,\n",
    "       \"d_Locn_Type_Division\":d_Locn_Type_Division,\n",
    "       \"d_Types_of_Crime\":d_Types_of_Crime\n",
    "      }\n",
    "\n",
    "with open('save_steps.pkl','wb') as file:\n",
    "    pickle.dump(data,file)"
   ]
  },
  {
   "cell_type": "code",
   "execution_count": null,
   "id": "4468eddc",
   "metadata": {},
   "outputs": [],
   "source": []
  },
  {
   "cell_type": "code",
   "execution_count": 22,
   "id": "ef3542fd",
   "metadata": {},
   "outputs": [],
   "source": [
    "from sklearn.metrics import mean_squared_error, mean_absolute_error\n",
    "from sklearn.preprocessing import RobustScaler\n",
    "from sklearn.metrics import accuracy_score, confusion_matrix, precision_score, recall_score, roc_auc_score, roc_curve, f1_score\n",
    "import sklearn.metrics as metrics"
   ]
  },
  {
   "cell_type": "code",
   "execution_count": 23,
   "id": "32ba7970",
   "metadata": {},
   "outputs": [],
   "source": [
    "models = pd.DataFrame(index=['train_mse','test_mse','train_rmse','test_rmse'],\n",
    "                     columns = ['knn'])"
   ]
  },
  {
   "cell_type": "code",
   "execution_count": 24,
   "id": "ba90c299",
   "metadata": {},
   "outputs": [],
   "source": [
    "models.loc['train_mse','knn']= mean_squared_error(y_pred=knn.predict(X_train),y_true=y_train)\n",
    "models.loc['test_mse','knn']= mean_squared_error(y_pred=knn.predict(X_test),y_true=y_test)\n",
    "models.loc['train_rmse','knn']= np.sqrt(mean_squared_error(y_pred=knn.predict(X_train),y_true=y_train))\n",
    "models.loc['test_rmse','knn']= np.sqrt(mean_squared_error(y_pred=knn.predict(X_test),y_true=y_test))"
   ]
  },
  {
   "cell_type": "code",
   "execution_count": 25,
   "id": "6d9a9244",
   "metadata": {},
   "outputs": [
    {
     "data": {
      "text/html": [
       "<div>\n",
       "<style scoped>\n",
       "    .dataframe tbody tr th:only-of-type {\n",
       "        vertical-align: middle;\n",
       "    }\n",
       "\n",
       "    .dataframe tbody tr th {\n",
       "        vertical-align: top;\n",
       "    }\n",
       "\n",
       "    .dataframe thead th {\n",
       "        text-align: right;\n",
       "    }\n",
       "</style>\n",
       "<table border=\"1\" class=\"dataframe\">\n",
       "  <thead>\n",
       "    <tr style=\"text-align: right;\">\n",
       "      <th></th>\n",
       "      <th>knn</th>\n",
       "    </tr>\n",
       "  </thead>\n",
       "  <tbody>\n",
       "    <tr>\n",
       "      <th>train_mse</th>\n",
       "      <td>1.354375</td>\n",
       "    </tr>\n",
       "    <tr>\n",
       "      <th>test_mse</th>\n",
       "      <td>1.51759</td>\n",
       "    </tr>\n",
       "    <tr>\n",
       "      <th>train_rmse</th>\n",
       "      <td>1.163776</td>\n",
       "    </tr>\n",
       "    <tr>\n",
       "      <th>test_rmse</th>\n",
       "      <td>1.231905</td>\n",
       "    </tr>\n",
       "  </tbody>\n",
       "</table>\n",
       "</div>"
      ],
      "text/plain": [
       "                 knn\n",
       "train_mse   1.354375\n",
       "test_mse     1.51759\n",
       "train_rmse  1.163776\n",
       "test_rmse   1.231905"
      ]
     },
     "execution_count": 25,
     "metadata": {},
     "output_type": "execute_result"
    }
   ],
   "source": [
    "models"
   ]
  },
  {
   "cell_type": "code",
   "execution_count": 26,
   "id": "38ba7f22",
   "metadata": {},
   "outputs": [],
   "source": [
    "pred_prob = knn.predict_proba(X_test)\n",
    "roc_auc=roc_auc_score(y_test, pred_prob, multi_class='ovr')"
   ]
  },
  {
   "cell_type": "code",
   "execution_count": 27,
   "id": "12f2a638",
   "metadata": {},
   "outputs": [
    {
     "name": "stdout",
     "output_type": "stream",
     "text": [
      "KNN roc AUC:  0.966386349738993\n"
     ]
    }
   ],
   "source": [
    "print('KNN roc AUC: ', roc_auc)"
   ]
  },
  {
   "cell_type": "code",
   "execution_count": null,
   "id": "7d31e233",
   "metadata": {},
   "outputs": [],
   "source": []
  },
  {
   "cell_type": "code",
   "execution_count": null,
   "id": "67b7ada9",
   "metadata": {},
   "outputs": [],
   "source": []
  },
  {
   "cell_type": "code",
   "execution_count": null,
   "id": "883251d2",
   "metadata": {},
   "outputs": [],
   "source": []
  }
 ],
 "metadata": {
  "kernelspec": {
   "display_name": "ml",
   "language": "python",
   "name": "ml"
  },
  "language_info": {
   "codemirror_mode": {
    "name": "ipython",
    "version": 3
   },
   "file_extension": ".py",
   "mimetype": "text/x-python",
   "name": "python",
   "nbconvert_exporter": "python",
   "pygments_lexer": "ipython3",
   "version": "3.10.4"
  }
 },
 "nbformat": 4,
 "nbformat_minor": 5
}
